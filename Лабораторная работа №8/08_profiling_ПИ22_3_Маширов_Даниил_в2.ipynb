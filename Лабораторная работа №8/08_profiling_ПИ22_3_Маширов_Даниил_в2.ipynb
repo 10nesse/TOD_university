{
  "cells": [
    {
      "cell_type": "markdown",
      "metadata": {
        "id": "zOKdahPYZfLM"
      },
      "source": [
        "## Оптимизация выполнения кода, векторизация, Numba"
      ]
    },
    {
      "cell_type": "markdown",
      "metadata": {
        "id": "mJA9gi33ZfLO"
      },
      "source": [
        "Материалы:\n",
        "* Макрушин С.В. Лекция 3: Оптимизация выполнения кода, векторизация, Numba\n",
        "* IPython Cookbook, Second Edition (2018), глава 4\n",
        "* https://numba.pydata.org/numba-doc/latest/user/5minguide.html"
      ]
    },
    {
      "cell_type": "markdown",
      "metadata": {
        "id": "1rtFOZMeZfLO"
      },
      "source": [
        "## Задачи для совместного разбора"
      ]
    },
    {
      "cell_type": "markdown",
      "metadata": {
        "id": "JfmARSnsZfLO"
      },
      "source": [
        "1. Сгенерируйте массив `A` из `N=1млн` случайных целых чисел на отрезке от 0 до 1000. Пусть `B[i] = A[i] + 100`. Посчитайте среднее значение массива `B`."
      ]
    },
    {
      "cell_type": "code",
      "execution_count": 1,
      "metadata": {
        "colab": {
          "base_uri": "https://localhost:8080/"
        },
        "id": "_Bcg9GOuZfLO",
        "outputId": "6564a18f-be22-4f78-a903-32584140a7cf"
      },
      "outputs": [
        {
          "output_type": "stream",
          "name": "stdout",
          "text": [
            "Среднее значение массива B: 599.86536\n"
          ]
        }
      ],
      "source": [
        "import numpy as np\n",
        "\n",
        "N = 1000000\n",
        "\n",
        "# Генерация массива A из N случайных целых чисел на отрезке от 0 до 1000\n",
        "A = np.random.randint(0, 1001, N)\n",
        "\n",
        "# Вычисление массива B\n",
        "B = A + 100\n",
        "\n",
        "# Вычисление среднего значения массива B\n",
        "mean_B = np.mean(B)\n",
        "\n",
        "print(\"Среднее значение массива B:\", mean_B)\n"
      ]
    },
    {
      "cell_type": "markdown",
      "metadata": {
        "id": "It4gD2RGZfLP"
      },
      "source": [
        "2. Создайте таблицу 2млн строк и с 4 столбцами, заполненными случайными числами. Добавьте столбец `key`, которые содержит элементы из множества английских букв. Выберите из таблицы подмножество строк, для которых в столбце `key` указаны первые 5 английских букв."
      ]
    },
    {
      "cell_type": "code",
      "source": [
        "import pandas as pd\n",
        "import numpy as np\n",
        "import string\n",
        "\n",
        "# Создание таблицы с 2 млн строк и 4 столбцами, заполненными случайными числами\n",
        "df = pd.DataFrame(np.random.randint(0, 100, size=(2000000, 4)), columns=list('ABCD'))\n",
        "\n",
        "# Добавление столбца key, содержащего случайные английские буквы\n",
        "df['key'] = np.random.choice(list(string.ascii_lowercase), 2000000)\n",
        "\n",
        "# Выборка строк, где в столбце key указаны первые 5 английских букв\n",
        "subset = df[df['key'].str[:5].isin(list(string.ascii_lowercase)[:5])]\n",
        "\n",
        "subset\n"
      ],
      "metadata": {
        "colab": {
          "base_uri": "https://localhost:8080/",
          "height": 424
        },
        "id": "OBihVgbpZ4Mq",
        "outputId": "09c29fe2-6364-4f86-8a10-5c6907db1cf8"
      },
      "execution_count": 4,
      "outputs": [
        {
          "output_type": "execute_result",
          "data": {
            "text/plain": [
              "          A   B   C   D key\n",
              "3        24  78   2  12   c\n",
              "13       54  43  10   8   a\n",
              "20       66  48  29   6   e\n",
              "21       69  64   5  44   e\n",
              "27       95  95  14   6   e\n",
              "...      ..  ..  ..  ..  ..\n",
              "1999979  42  43  36  64   c\n",
              "1999985  32  96  29  29   a\n",
              "1999986   0  68  25  86   c\n",
              "1999989   7  63  79  51   b\n",
              "1999993  31  36  81  45   b\n",
              "\n",
              "[384707 rows x 5 columns]"
            ],
            "text/html": [
              "\n",
              "  <div id=\"df-6a0cec8a-5294-4247-a8da-f786baa4f67a\">\n",
              "    <div class=\"colab-df-container\">\n",
              "      <div>\n",
              "<style scoped>\n",
              "    .dataframe tbody tr th:only-of-type {\n",
              "        vertical-align: middle;\n",
              "    }\n",
              "\n",
              "    .dataframe tbody tr th {\n",
              "        vertical-align: top;\n",
              "    }\n",
              "\n",
              "    .dataframe thead th {\n",
              "        text-align: right;\n",
              "    }\n",
              "</style>\n",
              "<table border=\"1\" class=\"dataframe\">\n",
              "  <thead>\n",
              "    <tr style=\"text-align: right;\">\n",
              "      <th></th>\n",
              "      <th>A</th>\n",
              "      <th>B</th>\n",
              "      <th>C</th>\n",
              "      <th>D</th>\n",
              "      <th>key</th>\n",
              "    </tr>\n",
              "  </thead>\n",
              "  <tbody>\n",
              "    <tr>\n",
              "      <th>3</th>\n",
              "      <td>24</td>\n",
              "      <td>78</td>\n",
              "      <td>2</td>\n",
              "      <td>12</td>\n",
              "      <td>c</td>\n",
              "    </tr>\n",
              "    <tr>\n",
              "      <th>13</th>\n",
              "      <td>54</td>\n",
              "      <td>43</td>\n",
              "      <td>10</td>\n",
              "      <td>8</td>\n",
              "      <td>a</td>\n",
              "    </tr>\n",
              "    <tr>\n",
              "      <th>20</th>\n",
              "      <td>66</td>\n",
              "      <td>48</td>\n",
              "      <td>29</td>\n",
              "      <td>6</td>\n",
              "      <td>e</td>\n",
              "    </tr>\n",
              "    <tr>\n",
              "      <th>21</th>\n",
              "      <td>69</td>\n",
              "      <td>64</td>\n",
              "      <td>5</td>\n",
              "      <td>44</td>\n",
              "      <td>e</td>\n",
              "    </tr>\n",
              "    <tr>\n",
              "      <th>27</th>\n",
              "      <td>95</td>\n",
              "      <td>95</td>\n",
              "      <td>14</td>\n",
              "      <td>6</td>\n",
              "      <td>e</td>\n",
              "    </tr>\n",
              "    <tr>\n",
              "      <th>...</th>\n",
              "      <td>...</td>\n",
              "      <td>...</td>\n",
              "      <td>...</td>\n",
              "      <td>...</td>\n",
              "      <td>...</td>\n",
              "    </tr>\n",
              "    <tr>\n",
              "      <th>1999979</th>\n",
              "      <td>42</td>\n",
              "      <td>43</td>\n",
              "      <td>36</td>\n",
              "      <td>64</td>\n",
              "      <td>c</td>\n",
              "    </tr>\n",
              "    <tr>\n",
              "      <th>1999985</th>\n",
              "      <td>32</td>\n",
              "      <td>96</td>\n",
              "      <td>29</td>\n",
              "      <td>29</td>\n",
              "      <td>a</td>\n",
              "    </tr>\n",
              "    <tr>\n",
              "      <th>1999986</th>\n",
              "      <td>0</td>\n",
              "      <td>68</td>\n",
              "      <td>25</td>\n",
              "      <td>86</td>\n",
              "      <td>c</td>\n",
              "    </tr>\n",
              "    <tr>\n",
              "      <th>1999989</th>\n",
              "      <td>7</td>\n",
              "      <td>63</td>\n",
              "      <td>79</td>\n",
              "      <td>51</td>\n",
              "      <td>b</td>\n",
              "    </tr>\n",
              "    <tr>\n",
              "      <th>1999993</th>\n",
              "      <td>31</td>\n",
              "      <td>36</td>\n",
              "      <td>81</td>\n",
              "      <td>45</td>\n",
              "      <td>b</td>\n",
              "    </tr>\n",
              "  </tbody>\n",
              "</table>\n",
              "<p>384707 rows × 5 columns</p>\n",
              "</div>\n",
              "      <button class=\"colab-df-convert\" onclick=\"convertToInteractive('df-6a0cec8a-5294-4247-a8da-f786baa4f67a')\"\n",
              "              title=\"Convert this dataframe to an interactive table.\"\n",
              "              style=\"display:none;\">\n",
              "        \n",
              "  <svg xmlns=\"http://www.w3.org/2000/svg\" height=\"24px\"viewBox=\"0 0 24 24\"\n",
              "       width=\"24px\">\n",
              "    <path d=\"M0 0h24v24H0V0z\" fill=\"none\"/>\n",
              "    <path d=\"M18.56 5.44l.94 2.06.94-2.06 2.06-.94-2.06-.94-.94-2.06-.94 2.06-2.06.94zm-11 1L8.5 8.5l.94-2.06 2.06-.94-2.06-.94L8.5 2.5l-.94 2.06-2.06.94zm10 10l.94 2.06.94-2.06 2.06-.94-2.06-.94-.94-2.06-.94 2.06-2.06.94z\"/><path d=\"M17.41 7.96l-1.37-1.37c-.4-.4-.92-.59-1.43-.59-.52 0-1.04.2-1.43.59L10.3 9.45l-7.72 7.72c-.78.78-.78 2.05 0 2.83L4 21.41c.39.39.9.59 1.41.59.51 0 1.02-.2 1.41-.59l7.78-7.78 2.81-2.81c.8-.78.8-2.07 0-2.86zM5.41 20L4 18.59l7.72-7.72 1.47 1.35L5.41 20z\"/>\n",
              "  </svg>\n",
              "      </button>\n",
              "      \n",
              "  <style>\n",
              "    .colab-df-container {\n",
              "      display:flex;\n",
              "      flex-wrap:wrap;\n",
              "      gap: 12px;\n",
              "    }\n",
              "\n",
              "    .colab-df-convert {\n",
              "      background-color: #E8F0FE;\n",
              "      border: none;\n",
              "      border-radius: 50%;\n",
              "      cursor: pointer;\n",
              "      display: none;\n",
              "      fill: #1967D2;\n",
              "      height: 32px;\n",
              "      padding: 0 0 0 0;\n",
              "      width: 32px;\n",
              "    }\n",
              "\n",
              "    .colab-df-convert:hover {\n",
              "      background-color: #E2EBFA;\n",
              "      box-shadow: 0px 1px 2px rgba(60, 64, 67, 0.3), 0px 1px 3px 1px rgba(60, 64, 67, 0.15);\n",
              "      fill: #174EA6;\n",
              "    }\n",
              "\n",
              "    [theme=dark] .colab-df-convert {\n",
              "      background-color: #3B4455;\n",
              "      fill: #D2E3FC;\n",
              "    }\n",
              "\n",
              "    [theme=dark] .colab-df-convert:hover {\n",
              "      background-color: #434B5C;\n",
              "      box-shadow: 0px 1px 3px 1px rgba(0, 0, 0, 0.15);\n",
              "      filter: drop-shadow(0px 1px 2px rgba(0, 0, 0, 0.3));\n",
              "      fill: #FFFFFF;\n",
              "    }\n",
              "  </style>\n",
              "\n",
              "      <script>\n",
              "        const buttonEl =\n",
              "          document.querySelector('#df-6a0cec8a-5294-4247-a8da-f786baa4f67a button.colab-df-convert');\n",
              "        buttonEl.style.display =\n",
              "          google.colab.kernel.accessAllowed ? 'block' : 'none';\n",
              "\n",
              "        async function convertToInteractive(key) {\n",
              "          const element = document.querySelector('#df-6a0cec8a-5294-4247-a8da-f786baa4f67a');\n",
              "          const dataTable =\n",
              "            await google.colab.kernel.invokeFunction('convertToInteractive',\n",
              "                                                     [key], {});\n",
              "          if (!dataTable) return;\n",
              "\n",
              "          const docLinkHtml = 'Like what you see? Visit the ' +\n",
              "            '<a target=\"_blank\" href=https://colab.research.google.com/notebooks/data_table.ipynb>data table notebook</a>'\n",
              "            + ' to learn more about interactive tables.';\n",
              "          element.innerHTML = '';\n",
              "          dataTable['output_type'] = 'display_data';\n",
              "          await google.colab.output.renderOutput(dataTable, element);\n",
              "          const docLink = document.createElement('div');\n",
              "          docLink.innerHTML = docLinkHtml;\n",
              "          element.appendChild(docLink);\n",
              "        }\n",
              "      </script>\n",
              "    </div>\n",
              "  </div>\n",
              "  "
            ]
          },
          "metadata": {},
          "execution_count": 4
        }
      ]
    },
    {
      "cell_type": "markdown",
      "metadata": {
        "id": "yQ1BrgwyZfLP"
      },
      "source": [
        "## Лабораторная работа 3"
      ]
    },
    {
      "cell_type": "code",
      "execution_count": 5,
      "metadata": {
        "colab": {
          "base_uri": "https://localhost:8080/"
        },
        "id": "fP6fY-M0ZfLP",
        "outputId": "e0699d57-ce50-4821-f254-31faf40853ed"
      },
      "outputs": [
        {
          "output_type": "stream",
          "name": "stdout",
          "text": [
            "Looking in indexes: https://pypi.org/simple, https://us-python.pkg.dev/colab-wheels/public/simple/\n",
            "Collecting line_profiler\n",
            "  Downloading line_profiler-4.0.3-cp310-cp310-manylinux_2_17_x86_64.manylinux2014_x86_64.whl (661 kB)\n",
            "\u001b[2K     \u001b[90m━━━━━━━━━━━━━━━━━━━━━━━━━━━━━━━━━━━━━━━\u001b[0m \u001b[32m661.9/661.9 kB\u001b[0m \u001b[31m9.9 MB/s\u001b[0m eta \u001b[36m0:00:00\u001b[0m\n",
            "\u001b[?25hInstalling collected packages: line_profiler\n",
            "Successfully installed line_profiler-4.0.3\n"
          ]
        }
      ],
      "source": [
        "!pip install line_profiler"
      ]
    },
    {
      "cell_type": "markdown",
      "metadata": {
        "id": "PXGayl9PZfLP"
      },
      "source": [
        "1. В файлах `recipes_sample.csv` и `reviews_sample.csv` (__ЛР 2__) находится информация об рецептах блюд и отзывах на эти рецепты соответственно. Загрузите данные из файлов в виде `pd.DataFrame` с названиями `recipes` и `reviews`. Обратите внимание на корректное считывание столбца(ов) с индексами. Приведите столбцы к нужным типам.\n",
        "\n",
        "Реализуйте несколько вариантов функции подсчета среднего значения столбца `rating` из таблицы `reviews` для отзывов, оставленных в 2010 году.\n",
        "\n",
        "A. С использованием метода `DataFrame.iterrows` исходной таблицы;\n",
        "\n",
        "Б. С использованием метода `DataFrame.iterrows` таблицы, в которой сохранены только отзывы за 2010 год;\n",
        "\n",
        "В. С использованием метода `Series.mean`.\n",
        "\n",
        "Проверьте, что результаты работы всех написанных функций корректны и совпадают. Измерьте выполнения всех написанных функций.\n"
      ]
    },
    {
      "cell_type": "code",
      "source": [
        "# Загрузка данных из файлов\n",
        "recipes = pd.read_csv('recipes_sample.csv')\n",
        "reviews = pd.read_csv('reviews_sample.csv')\n",
        "\n",
        "# Приведение столбцов к нужным типам\n",
        "recipes['submitted'] = pd.to_datetime(recipes['submitted'])\n",
        "reviews['date'] = pd.to_datetime(reviews['date'])\n",
        "\n"
      ],
      "metadata": {
        "id": "3wFUaiQUa2sh"
      },
      "execution_count": 6,
      "outputs": []
    },
    {
      "cell_type": "code",
      "source": [
        "def calculate_mean_rating_a(df):\n",
        "    total_rating = 0\n",
        "    count = 0\n",
        "    \n",
        "    for _, row in df.iterrows():\n",
        "        if row['date'].year == 2010:\n",
        "            total_rating += row['rating']\n",
        "            count += 1\n",
        "    \n",
        "    if count == 0:\n",
        "        return 0\n",
        "    \n",
        "    return total_rating / count\n",
        "\n",
        "mean_rating_a = calculate_mean_rating_a(reviews)\n",
        "print(\"Среднее значение рейтинга (метод A):\", mean_rating_a)"
      ],
      "metadata": {
        "colab": {
          "base_uri": "https://localhost:8080/"
        },
        "id": "GANYXz3ia6Ra",
        "outputId": "9cdb05a8-cb64-4521-fd85-7347a1b7e9e2"
      },
      "execution_count": 7,
      "outputs": [
        {
          "output_type": "stream",
          "name": "stdout",
          "text": [
            "Среднее значение рейтинга (метод A): 4.4544402182900615\n"
          ]
        }
      ]
    },
    {
      "cell_type": "code",
      "source": [
        "%%time\n",
        "calculate_mean_rating_a(reviews)"
      ],
      "metadata": {
        "colab": {
          "base_uri": "https://localhost:8080/"
        },
        "id": "VFPUdDI4bF1C",
        "outputId": "57cca515-7444-4749-d368-c51401b8a97f"
      },
      "execution_count": 8,
      "outputs": [
        {
          "output_type": "stream",
          "name": "stdout",
          "text": [
            "CPU times: user 5.78 s, sys: 21.1 ms, total: 5.8 s\n",
            "Wall time: 5.86 s\n"
          ]
        },
        {
          "output_type": "execute_result",
          "data": {
            "text/plain": [
              "4.4544402182900615"
            ]
          },
          "metadata": {},
          "execution_count": 8
        }
      ]
    },
    {
      "cell_type": "code",
      "source": [
        "def calculate_mean_rating_b(df):\n",
        "    total_rating = 0\n",
        "    count = 0\n",
        "    \n",
        "    for _, row in df[df['date'].dt.year == 2010].iterrows():\n",
        "        total_rating += row['rating']\n",
        "        count += 1\n",
        "    \n",
        "    if count == 0:\n",
        "        return 0\n",
        "    \n",
        "    return total_rating / count\n",
        "\n",
        "mean_rating_b = calculate_mean_rating_b(reviews)\n",
        "print(\"Среднее значение рейтинга (метод B):\", mean_rating_b)\n"
      ],
      "metadata": {
        "colab": {
          "base_uri": "https://localhost:8080/"
        },
        "id": "2cpCGtC1a7st",
        "outputId": "bdf72569-4ec6-4856-8738-1f25f4a5f1ca"
      },
      "execution_count": 9,
      "outputs": [
        {
          "output_type": "stream",
          "name": "stdout",
          "text": [
            "Среднее значение рейтинга (метод B): 4.4544402182900615\n"
          ]
        }
      ]
    },
    {
      "cell_type": "code",
      "source": [
        "%%time\n",
        "calculate_mean_rating_b(reviews)"
      ],
      "metadata": {
        "colab": {
          "base_uri": "https://localhost:8080/"
        },
        "id": "_QQkph4tbMaj",
        "outputId": "f0137db8-647d-48df-e148-f0e71c5a8b80"
      },
      "execution_count": 10,
      "outputs": [
        {
          "output_type": "stream",
          "name": "stdout",
          "text": [
            "CPU times: user 594 ms, sys: 1.91 ms, total: 595 ms\n",
            "Wall time: 597 ms\n"
          ]
        },
        {
          "output_type": "execute_result",
          "data": {
            "text/plain": [
              "4.4544402182900615"
            ]
          },
          "metadata": {},
          "execution_count": 10
        }
      ]
    },
    {
      "cell_type": "code",
      "source": [
        "def calculate_mean_rating_c(df):\n",
        "    mean_rating = df[df['date'].dt.year == 2010]['rating'].mean()\n",
        "    \n",
        "    if pd.isnull(mean_rating):\n",
        "        return 0\n",
        "    \n",
        "    return mean_rating\n",
        "\n",
        "mean_rating_c = calculate_mean_rating_c(reviews)\n",
        "print(\"Среднее значение рейтинга (метод C):\", mean_rating_c)\n"
      ],
      "metadata": {
        "colab": {
          "base_uri": "https://localhost:8080/"
        },
        "id": "LVZUjCska8KE",
        "outputId": "5e1790de-42e8-423f-c4f7-099e1dd75e2b"
      },
      "execution_count": 11,
      "outputs": [
        {
          "output_type": "stream",
          "name": "stdout",
          "text": [
            "Среднее значение рейтинга (метод C): 4.4544402182900615\n"
          ]
        }
      ]
    },
    {
      "cell_type": "code",
      "source": [
        "%%time\n",
        "calculate_mean_rating_c(reviews)"
      ],
      "metadata": {
        "colab": {
          "base_uri": "https://localhost:8080/"
        },
        "id": "9gXdmiSZbOH4",
        "outputId": "00f1081a-5f48-43d8-9b1c-1e0624d61b6e"
      },
      "execution_count": 12,
      "outputs": [
        {
          "output_type": "stream",
          "name": "stdout",
          "text": [
            "CPU times: user 22.1 ms, sys: 0 ns, total: 22.1 ms\n",
            "Wall time: 22.3 ms\n"
          ]
        },
        {
          "output_type": "execute_result",
          "data": {
            "text/plain": [
              "4.4544402182900615"
            ]
          },
          "metadata": {},
          "execution_count": 12
        }
      ]
    },
    {
      "cell_type": "markdown",
      "metadata": {
        "id": "R5dH_KGDZfLQ"
      },
      "source": [
        "2. Какая из созданных функций выполняется медленнее? Что наиболее сильно влияет на скорость выполнения? Для ответа использовать профайлер `line_profiler`. Сохраните результаты работы профайлера в отдельную текстовую ячейку и прокомментируйте результаты его работы.\n",
        "\n",
        "(*). Сможете ли вы ускорить работу функции 1Б, отказавшись от использования метода `iterrows`, но не используя метод `mean`?"
      ]
    },
    {
      "cell_type": "code",
      "source": [
        "import line_profiler\n",
        "\n",
        "# Создание экземпляра профайлера\n",
        "profiler = line_profiler.LineProfiler(calculate_mean_rating_a, calculate_mean_rating_b, calculate_mean_rating_c)\n",
        "\n",
        "# Запуск профайлера\n",
        "profiler.enable()\n",
        "\n",
        "# Выполнение функций\n",
        "mean_rating_a = calculate_mean_rating_a(reviews)\n",
        "mean_rating_b = calculate_mean_rating_b(reviews)\n",
        "mean_rating_c = calculate_mean_rating_c(reviews)\n",
        "\n",
        "# Отключение профайлера и вывод результатов\n",
        "profiler.disable()\n",
        "profiler.print_stats()\n"
      ],
      "metadata": {
        "colab": {
          "base_uri": "https://localhost:8080/"
        },
        "id": "1ad9NCiBbi9F",
        "outputId": "6ce9998e-cc60-4304-8ab6-e8a886064f3b"
      },
      "execution_count": 13,
      "outputs": [
        {
          "output_type": "stream",
          "name": "stdout",
          "text": [
            "Timer unit: 1e-09 s\n",
            "\n",
            "Total time: 0.0189009 s\n",
            "File: <ipython-input-11-13f1430a9322>\n",
            "Function: calculate_mean_rating_c at line 1\n",
            "\n",
            "Line #      Hits         Time  Per Hit   % Time  Line Contents\n",
            "==============================================================\n",
            "     1                                           def calculate_mean_rating_c(df):\n",
            "     2         1   18893943.0 18893943.0    100.0      mean_rating = df[df['date'].dt.year == 2010]['rating'].mean()\n",
            "     3                                               \n",
            "     4         1       6760.0   6760.0      0.0      if pd.isnull(mean_rating):\n",
            "     5                                                   return 0\n",
            "     6                                               \n",
            "     7         1        186.0    186.0      0.0      return mean_rating\n",
            "\n",
            "Total time: 11.422 s\n",
            "File: <ipython-input-7-e660e5f5c04b>\n",
            "Function: calculate_mean_rating_a at line 1\n",
            "\n",
            "Line #      Hits         Time  Per Hit   % Time  Line Contents\n",
            "==============================================================\n",
            "     1                                           def calculate_mean_rating_a(df):\n",
            "     2         1       1710.0   1710.0      0.0      total_rating = 0\n",
            "     3         1        400.0    400.0      0.0      count = 0\n",
            "     4                                               \n",
            "     5    126696 9990599629.0  78854.9     87.5      for _, row in df.iterrows():\n",
            "     6    114602 1323432238.0  11548.1     11.6          if row['date'].year == 2010:\n",
            "     7     12094  103447398.0   8553.6      0.9              total_rating += row['rating']\n",
            "     8     12094    4547709.0    376.0      0.0              count += 1\n",
            "     9                                               \n",
            "    10         1        275.0    275.0      0.0      if count == 0:\n",
            "    11                                                   return 0\n",
            "    12                                               \n",
            "    13         1        785.0    785.0      0.0      return total_rating / count\n",
            "\n",
            "Total time: 0.973082 s\n",
            "File: <ipython-input-9-e2c07de38ea6>\n",
            "Function: calculate_mean_rating_b at line 1\n",
            "\n",
            "Line #      Hits         Time  Per Hit   % Time  Line Contents\n",
            "==============================================================\n",
            "     1                                           def calculate_mean_rating_b(df):\n",
            "     2         1       2525.0   2525.0      0.0      total_rating = 0\n",
            "     3         1        298.0    298.0      0.0      count = 0\n",
            "     4                                               \n",
            "     5     12094  844927124.0  69863.3     86.8      for _, row in df[df['date'].dt.year == 2010].iterrows():\n",
            "     6     12094  123741082.0  10231.6     12.7          total_rating += row['rating']\n",
            "     7     12094    4408709.0    364.5      0.5          count += 1\n",
            "     8                                               \n",
            "     9         1       1171.0   1171.0      0.0      if count == 0:\n",
            "    10                                                   return 0\n",
            "    11                                               \n",
            "    12         1       1460.0   1460.0      0.0      return total_rating / count\n",
            "\n"
          ]
        }
      ]
    },
    {
      "cell_type": "markdown",
      "source": [
        "Методы B и C, которые предварительно фильтруют таблицу, могут быть более эффективными по сравнению с методом A, который выполняет операции для всех строк."
      ],
      "metadata": {
        "id": "_sjudaFAb8ZS"
      }
    },
    {
      "cell_type": "markdown",
      "metadata": {
        "id": "PsIMkGQBZfLQ"
      },
      "source": [
        "3. Вам предлагается воспользоваться функцией, которая собирает статистику о том, сколько отзывов содержат то или иное слово. Измерьте время выполнения этой функции. Сможете ли вы найти узкие места в коде, используя профайлер? Выпишите (словами), что в имеющемся коде реализовано неоптимально. Оптимизируйте функцию и добейтесь значительного (как минимум, на один порядок) прироста в скорости выполнения."
      ]
    },
    {
      "cell_type": "code",
      "execution_count": 14,
      "metadata": {
        "id": "LNitCzBcZfLQ"
      },
      "outputs": [],
      "source": [
        "def get_word_reviews_count(df):\n",
        "    word_reviews = {}\n",
        "    for _, row in df.dropna(subset=['review']).iterrows():\n",
        "        recipe_id, review = row['recipe_id'], row['review']\n",
        "        words = review.split(' ')\n",
        "        for word in words:\n",
        "            if word not in word_reviews:\n",
        "                word_reviews[word] = []\n",
        "            word_reviews[word].append(recipe_id)\n",
        "    \n",
        "    word_reviews_count = {}\n",
        "    for _, row in df.dropna(subset=['review']).iterrows():\n",
        "        review = row['review']\n",
        "        words = review.split(' ')\n",
        "        for word in words:\n",
        "            word_reviews_count[word] = len(word_reviews[word])\n",
        "    return word_reviews_count"
      ]
    },
    {
      "cell_type": "code",
      "source": [
        "import cProfile\n",
        "\n",
        "def profile_get_word_reviews_count():\n",
        "    cProfile.run('get_word_reviews_count(reviews)', sort='tottime')\n",
        "\n",
        "profile_get_word_reviews_count()\n"
      ],
      "metadata": {
        "colab": {
          "base_uri": "https://localhost:8080/"
        },
        "id": "C13WYesqc6T_",
        "outputId": "62c752f0-4f72-483f-be9b-86fb6a6bda1c"
      },
      "execution_count": 15,
      "outputs": [
        {
          "output_type": "stream",
          "name": "stdout",
          "text": [
            "         52986037 function calls (51972523 primitive calls) in 42.593 seconds\n",
            "\n",
            "   Ordered by: internal time\n",
            "\n",
            "   ncalls  tottime  percall  cumtime  percall filename:lineno(function)\n",
            "        1    9.595    9.595   42.480   42.480 <ipython-input-14-b1bc049bcd0c>:1(get_word_reviews_count)\n",
            "   253364    2.383    0.000   21.466    0.000 series.py:342(__init__)\n",
            "10846018/9832522    1.694    0.000    2.072    0.000 {built-in method builtins.len}\n",
            "8995349/8995343    1.625    0.000    2.411    0.000 {built-in method builtins.isinstance}\n",
            "   253364    1.369    0.000    6.066    0.000 construction.py:493(sanitize_array)\n",
            "   253372    1.244    0.000    1.834    0.000 generic.py:5844(__finalize__)\n",
            "  6792020    1.073    0.000    1.073    0.000 {method 'append' of 'list' objects}\n",
            "   380037    1.069    0.000    5.112    0.000 series.py:966(__getitem__)\n",
            "   506720    1.064    0.000    1.064    0.000 {method 'split' of 'str' objects}\n",
            "   253358    0.968    0.000    1.673    0.000 cast.py:1178(maybe_infer_to_datetimelike)\n",
            "   253360    0.840    0.000   24.859    0.000 frame.py:1366(iterrows)\n",
            "   253370    0.756    0.000    2.836    0.000 blocks.py:2172(new_block)\n",
            "   253376    0.714    0.000    0.933    0.000 generic.py:259(__init__)\n",
            "        2    0.654    0.327    0.654    0.327 {pandas._libs.tslibs.vectorized.ints_to_pydatetime}\n",
            "   253376    0.645    0.000    2.702    0.000 generic.py:5904(__setattr__)\n",
            "   380047    0.589    0.000    0.687    0.000 managers.py:2069(internal_values)\n",
            "   380037    0.575    0.000    2.959    0.000 series.py:1072(_get_value)\n",
            "   253364    0.571    0.000    2.316    0.000 construction.py:744(_try_cast)\n",
            "   253362    0.527    0.000    1.357    0.000 config.py:116(_get_single_key)\n",
            "   380037    0.505    0.000    0.941    0.000 base.py:3754(get_loc)\n",
            "   253366    0.464    0.000    1.277    0.000 series.py:661(name)\n",
            "   380037    0.462    0.000    1.443    0.000 base.py:5934(_get_values_for_loc)\n",
            "   253372    0.458    0.000    0.602    0.000 blocks.py:2120(get_block_type)\n",
            "   253360    0.453    0.000    3.996    0.000 managers.py:1934(from_array)\n",
            "   253358    0.449    0.000    0.449    0.000 {pandas._libs.lib.infer_datetimelike_array}\n",
            "   253366    0.433    0.000    0.780    0.000 series.py:611(name)\n",
            "   253374    0.418    0.000    0.792    0.000 blocks.py:2091(maybe_coerce_values)\n",
            "   380041    0.397    0.000    0.615    0.000 indexing.py:2656(check_deprecated_indexers)\n",
            "   253360    0.387    0.000    1.432    0.000 series.py:565(_set_axis)\n",
            "  1013470    0.378    0.000    0.523    0.000 base.py:925(__len__)\n",
            "   253364    0.374    0.000    0.455    0.000 managers.py:1891(__init__)\n",
            "   253370    0.374    0.000    0.629    0.000 blocks.py:2186(check_ndim)\n",
            "   380037    0.368    0.000    0.368    0.000 {method 'get_loc' of 'pandas._libs.index.IndexEngine' objects}\n",
            "   253362    0.368    0.000    0.459    0.000 config.py:597(_get_root)\n",
            "   506724    0.351    0.000    0.351    0.000 config.py:611(_get_deprecated_option)\n",
            "   760226    0.349    0.000    0.786    0.000 generic.py:45(_instancecheck)\n",
            "   253368    0.347    0.000    0.347    0.000 generic.py:5888(__getattr__)\n",
            "   760226    0.326    0.000    0.438    0.000 generic.py:40(_check)\n",
            "   253362    0.288    0.000    2.105    0.000 config.py:134(_get_option)\n",
            "   253364    0.257    0.000    0.514    0.000 construction.py:676(_sanitize_ndim)\n",
            "   253360    0.243    0.000    0.370    0.000 construction.py:861(is_empty_data)\n",
            "   506740    0.240    0.000    0.341    0.000 inference.py:325(is_hashable)\n",
            "   253360    0.238    0.000    0.699    0.000 base.py:58(_validate_set_axis)\n",
            "   253366    0.232    0.000    0.813    0.000 common.py:1725(validate_all_hashable)\n",
            "   380047    0.225    0.000    0.912    0.000 series.py:708(_values)\n",
            "   253372    0.224    0.000    0.224    0.000 flags.py:85(allows_duplicate_labels)\n",
            "   253386    0.221    0.000    0.248    0.000 construction.py:461(ensure_wrapped_if_datetimelike)\n",
            "   506732    0.220    0.000    0.393    0.000 common.py:1744(<genexpr>)\n",
            "   253376    0.218    0.000    0.218    0.000 flags.py:49(__init__)\n",
            "   506726    0.216    0.000    0.287    0.000 base.py:7277(ensure_index)\n",
            "   253360    0.206    0.000    0.905    0.000 managers.py:228(set_axis)\n",
            "   253362    0.199    0.000    2.304    0.000 config.py:262(__call__)\n",
            "   253368    0.193    0.000    1.320    0.000 construction.py:399(extract_array)\n",
            "   253376    0.188    0.000    0.581    0.000 {built-in method builtins.all}\n",
            "  1013646    0.181    0.000    0.181    0.000 {built-in method builtins.getattr}\n",
            "   253368    0.178    0.000    0.346    0.000 base.py:7372(maybe_extract_name)\n",
            "   253360    0.172    0.000    0.466    0.000 common.py:566(require_length_match)\n",
            "   253364    0.167    0.000    0.209    0.000 construction.py:713(_sanitize_str_dtypes)\n",
            "   760104    0.159    0.000    0.159    0.000 {pandas._libs.lib.is_list_like}\n",
            "   380041    0.158    0.000    0.220    0.000 common.py:362(apply_if_callable)\n",
            "   253364    0.150    0.000    0.187    0.000 construction.py:733(_maybe_repeat)\n",
            "   760079    0.148    0.000    0.148    0.000 {pandas._libs.lib.is_integer}\n",
            "   253362    0.147    0.000    0.375    0.000 config.py:650(_warn_if_deprecated)\n",
            "   253362    0.130    0.000    0.130    0.000 config.py:579(_select_options)\n",
            "   253362    0.130    0.000    0.130    0.000 {built-in method numpy.array}\n",
            "   506744    0.126    0.000    0.126    0.000 generic.py:353(flags)\n",
            "   253372    0.122    0.000    0.122    0.000 generic.py:332(attrs)\n",
            "   253362    0.121    0.000    0.244    0.000 config.py:638(_translate_key)\n",
            "        1    0.113    0.113   42.593   42.593 <string>:1(<module>)\n",
            "   253376    0.103    0.000    0.151    0.000 common.py:1420(is_1d_only_ea_dtype)\n",
            "   506740    0.101    0.000    0.101    0.000 {built-in method builtins.hash}\n",
            "   253362    0.098    0.000    0.098    0.000 managers.py:2009(_block)\n",
            "   380079    0.097    0.000    0.097    0.000 {pandas._libs.lib.is_scalar}\n",
            "   506836    0.092    0.000    0.092    0.000 {built-in method builtins.issubclass}\n",
            "   506728    0.088    0.000    0.088    0.000 typing.py:1737(cast)\n",
            "   253380    0.080    0.000    0.080    0.000 managers.py:2433(_using_copy_on_write)\n",
            "   253372    0.069    0.000    0.069    0.000 flags.py:53(allows_duplicate_labels)\n",
            "   380037    0.068    0.000    0.068    0.000 base.py:6569(_maybe_cast_indexer)\n",
            "   253408    0.064    0.000    0.064    0.000 {built-in method builtins.hasattr}\n",
            "   380047    0.062    0.000    0.062    0.000 {built-in method builtins.callable}\n",
            "   253360    0.059    0.000    0.059    0.000 {pandas._libs.algos.ensure_object}\n",
            "        2    0.053    0.026    0.053    0.026 {pandas._libs.missing.isnaobj2d}\n",
            "       10    0.035    0.003    0.035    0.003 {method 'astype' of 'numpy.ndarray' objects}\n",
            "        2    0.018    0.009    0.720    0.360 managers.py:1782(_interleave)\n",
            "        2    0.017    0.008    0.017    0.008 {pandas._libs.algos.take_2d_axis1_object_object}\n",
            "       24    0.014    0.001    0.014    0.001 {built-in method numpy.empty}\n",
            "        2    0.009    0.004    0.009    0.004 {pandas._libs.algos.take_2d_axis0_object_object}\n",
            "        2    0.008    0.004    0.008    0.004 {pandas._libs.algos.take_2d_axis1_int64_int64}\n",
            "       24    0.007    0.000    0.007    0.000 {method 'reduce' of 'numpy.ufunc' objects}\n",
            "        2    0.003    0.002    0.122    0.061 _decorators.py:323(wrapper)\n",
            "        6    0.002    0.000    0.002    0.000 {method 'take' of 'numpy.ndarray' objects}\n",
            "        2    0.001    0.001    0.001    0.001 {pandas._libs.algos.take_2d_axis0_int64_int64}\n",
            "        2    0.001    0.001    0.001    0.001 {built-in method numpy.arange}\n",
            "        2    0.001    0.001    0.655    0.328 datetimelike.py:425(astype)\n",
            "        2    0.001    0.000    0.001    0.000 {method 'get_indexer' of 'pandas._libs.index.IndexEngine' objects}\n",
            "        2    0.001    0.000    0.119    0.060 frame.py:6424(dropna)\n",
            "        4    0.001    0.000    0.001    0.000 utils.py:243(maybe_convert_indices)\n",
            "        6    0.001    0.000    0.001    0.000 {pandas._libs.lib.maybe_convert_objects}\n",
            "      8/4    0.001    0.000    0.003    0.001 base.py:430(__new__)\n",
            "        2    0.000    0.000    0.020    0.010 managers.py:774(_slice_take_blocks_ax0)\n",
            "        2    0.000    0.000    0.000    0.000 {method 'nonzero' of 'numpy.ndarray' objects}\n",
            "        8    0.000    0.000    0.001    0.000 base.py:494(find)\n",
            "       12    0.000    0.000    0.001    0.000 take.py:554(_take_preprocess_indexer_and_fill_value)\n",
            "       12    0.000    0.000    0.039    0.003 take.py:120(_take_nd_ndarray)\n",
            "        8    0.000    0.000    0.001    0.000 common.py:235(asarray_tuplesafe)\n",
            "        3    0.000    0.000    0.000    0.000 {pandas._libs.lib.infer_dtype}\n",
            "        4    0.000    0.000    0.000    0.000 cast.py:1763(construct_1d_object_array_from_listlike)\n",
            "    14/12    0.000    0.000    0.041    0.003 take.py:57(take_nd)\n",
            "       11    0.000    0.000    0.001    0.000 {built-in method numpy.core._multiarray_umath.implement_array_function}\n",
            "        2    0.000    0.000    0.003    0.002 base.py:708(_with_infer)\n",
            "        8    0.000    0.000    0.040    0.005 blocks.py:861(take_nd)\n",
            "    42/40    0.000    0.000    0.000    0.000 {built-in method numpy.asarray}\n",
            "        2    0.000    0.000    0.053    0.026 missing.py:309(_isna_string_dtype)\n",
            "        4    0.000    0.000    0.045    0.011 managers.py:944(take)\n",
            "        6    0.000    0.000    0.000    0.000 numeric.py:289(full)\n",
            "        2    0.000    0.000    0.005    0.003 base.py:3888(get_indexer)\n",
            "        4    0.000    0.000    0.002    0.001 base.py:1168(take)\n",
            "        4    0.000    0.000    0.046    0.011 generic.py:3873(_take)\n",
            "        2    0.000    0.000    0.005    0.003 frame.py:10773(_reduce)\n",
            "       12    0.000    0.000    0.001    0.000 frame.py:609(__init__)\n",
            "        4    0.000    0.000    0.006    0.002 generic.py:11108(_logical_func)\n",
            "       18    0.000    0.000    0.000    0.000 common.py:1751(pandas_dtype)\n",
            "        4    0.000    0.000    0.000    0.000 {pandas._libs.algos.take_1d_int64_int64}\n",
            "        4    0.000    0.000    0.042    0.010 managers.py:689(reindex_indexer)\n",
            "    14/12    0.000    0.000    0.054    0.004 missing.py:191(_isna)\n",
            "        6    0.000    0.000    0.054    0.009 managers.py:301(apply)\n",
            "        4    0.000    0.000    0.001    0.000 base.py:7396(_maybe_cast_data_without_dtype)\n",
            "        2    0.000    0.000    0.000    0.000 construction.py:272(ndarray_to_mgr)\n",
            "       12    0.000    0.000    0.000    0.000 generic.py:564(_get_axis)\n",
            "        2    0.000    0.000    0.000    0.000 {built-in method _operator.invert}\n",
            "        2    0.000    0.000    0.000    0.000 series.py:4773(_reduce)\n",
            "        2    0.000    0.000    0.002    0.001 _mixins.py:154(take)\n",
            "        7    0.000    0.000    0.000    0.000 cast.py:574(_maybe_promote)\n",
            "        2    0.000    0.000    0.001    0.001 base.py:3975(_get_indexer)\n",
            "        1    0.000    0.000   42.593   42.593 {built-in method builtins.exec}\n",
            "       14    0.000    0.000    0.000    0.000 base.py:54(shape)\n",
            "       18    0.000    0.000    0.000    0.000 common.py:585(is_dtype_equal)\n",
            "       10    0.000    0.000    0.000    0.000 managers.py:1061(from_blocks)\n",
            "        2    0.000    0.000    0.002    0.001 frame.py:3565(transpose)\n",
            "        4    0.000    0.000    0.000    0.000 base.py:5464(equals)\n",
            "        6    0.000    0.000    0.000    0.000 missing.py:645(na_value_for_dtype)\n",
            "       48    0.000    0.000    0.000    0.000 common.py:1591(_is_dtype_type)\n",
            "        4    0.000    0.000    0.000    0.000 numerictypes.py:573(_can_coerce_all)\n",
            "        8    0.000    0.000    0.000    0.000 blocks.py:236(make_block_same_class)\n",
            "        6    0.000    0.000    0.000    0.000 {method 'copy' of 'numpy.ndarray' objects}\n",
            "        4    0.000    0.000    0.001    0.000 fromnumeric.py:69(_wrapreduction)\n",
            "        6    0.000    0.000    0.004    0.001 algorithms.py:1484(take)\n",
            "        2    0.000    0.000    0.655    0.328 datetimes.py:599(astype)\n",
            "        8    0.000    0.000    0.000    0.000 base.py:690(_simple_new)\n",
            "        8    0.000    0.000    0.000    0.000 generic.py:5959(_protect_consolidate)\n",
            "       28    0.000    0.000    0.000    0.000 datetimes.py:495(dtype)\n",
            "        4    0.000    0.000    0.000    0.000 nanops.py:261(_get_values)\n",
            "        2    0.000    0.000    0.000    0.000 warnings.py:130(filterwarnings)\n",
            "       16    0.000    0.000    0.000    0.000 common.py:1487(is_ea_or_datetimelike_dtype)\n",
            "        8    0.000    0.000    0.000    0.000 function.py:56(__call__)\n",
            "        7    0.000    0.000    0.000    0.000 _dtype.py:328(_name_get)\n",
            "        2    0.000    0.000    0.000    0.000 fromnumeric.py:2970(prod)\n",
            "       12    0.000    0.000    0.006    0.000 _methods.py:54(_any)\n",
            "        2    0.000    0.000    0.001    0.001 take.py:350(wrapper)\n",
            "        4    0.000    0.000    0.000    0.000 base.py:742(__iter__)\n",
            "        2    0.000    0.000    0.001    0.000 generic.py:1516(__invert__)\n",
            "       10    0.000    0.000    0.000    0.000 common.py:1246(is_float_dtype)\n",
            "        2    0.000    0.000    0.021    0.011 generic.py:3778(take)\n",
            "        2    0.000    0.000    0.053    0.027 frame.py:6377(isna)\n",
            "       18    0.000    0.000    0.000    0.000 common.py:1278(is_bool_dtype)\n",
            "        6    0.000    0.000    0.000    0.000 <__array_function__ internals>:177(copyto)\n",
            "       12    0.000    0.000    0.006    0.000 {method 'any' of 'numpy.ndarray' objects}\n",
            "        2    0.000    0.000    0.000    0.000 re.py:288(_compile)\n",
            "        2    0.000    0.000    0.000    0.000 cast.py:1589(find_common_type)\n",
            "       44    0.000    0.000    0.000    0.000 base.py:229(construct_from_string)\n",
            "        9    0.000    0.000    0.000    0.000 missing.py:699(is_valid_na_for_dtype)\n",
            "        2    0.000    0.000    0.002    0.001 managers.py:1546(reduce)\n",
            "        2    0.000    0.000    0.000    0.000 {built-in method pandas._libs.lib.is_datetime_array}\n",
            "        2    0.000    0.000    0.000    0.000 dtypes.py:1247(is_dtype)\n",
            "        2    0.000    0.000    0.000    0.000 astype.py:239(astype_array_safe)\n",
            "        4    0.000    0.000    0.000    0.000 missing.py:460(array_equivalent)\n",
            "        8    0.000    0.000    0.000    0.000 blocks.py:221(make_block)\n",
            "        2    0.000    0.000    0.655    0.328 blocks.py:1598(get_values)\n",
            "        4    0.000    0.000    0.000    0.000 _ufunc_config.py:32(seterr)\n",
            "        4    0.000    0.000    0.000    0.000 nanops.py:542(nanall)\n",
            "        2    0.000    0.000    0.720    0.360 managers.py:1721(as_array)\n",
            "       38    0.000    0.000    0.000    0.000 numerictypes.py:582(<listcomp>)\n",
            "       14    0.000    0.000    0.000    0.000 base.py:286(is_dtype)\n",
            "        4    0.000    0.000    0.026    0.006 indexing.py:1059(__getitem__)\n",
            "        4    0.000    0.000    0.053    0.013 blocks.py:345(apply)\n",
            "       56    0.000    0.000    0.000    0.000 common.py:1556(get_dtype)\n",
            "        6    0.000    0.000    0.000    0.000 _validators.py:226(validate_bool_kwarg)\n",
            "        2    0.000    0.000    0.001    0.001 generic.py:6045(dtypes)\n",
            "       14    0.000    0.000    0.000    0.000 cast.py:527(maybe_promote)\n",
            "        2    0.000    0.000    0.000    0.000 take.py:288(_get_take_nd_function_cached)\n",
            "        2    0.000    0.000    0.000    0.000 common.py:463(is_interval_dtype)\n",
            "        2    0.000    0.000    0.006    0.003 base.py:6032(get_indexer_for)\n",
            "       24    0.000    0.000    0.000    0.000 common.py:162(is_object_dtype)\n",
            "        4    0.000    0.000    0.000    0.000 base.py:6193(_index_as_unique)\n",
            "       22    0.000    0.000    0.000    0.000 range.py:946(__len__)\n",
            "        2    0.000    0.000    0.022    0.011 managers.py:751(<listcomp>)\n",
            "        2    0.000    0.000    0.000    0.000 datetimelike.py:637(_validate_scalar)\n",
            "       10    0.000    0.000    0.000    0.000 {built-in method pandas._libs.missing.checknull}\n",
            "        2    0.000    0.000    0.000    0.000 {method '_rebuild_blknos_and_blklocs' of 'pandas._libs.internals.BlockManager' objects}\n",
            "        4    0.000    0.000    0.000    0.000 dtypes.py:754(construct_from_string)\n",
            "        4    0.000    0.000    0.000    0.000 base.py:588(_dtype_to_subclass)\n",
            "       12    0.000    0.000    0.000    0.000 take.py:326(_get_take_nd_function)\n",
            "        8    0.000    0.000    0.000    0.000 generic.py:5977(f)\n",
            "        2    0.000    0.000    0.000    0.000 _ufunc_config.py:429(__enter__)\n",
            "        6    0.000    0.000    0.000    0.000 blocks.py:823(shape)\n",
            "        2    0.000    0.000    0.000    0.000 _ufunc_config.py:425(__init__)\n",
            "        2    0.000    0.000    0.000    0.000 enum.py:801(value)\n",
            "       10    0.000    0.000    0.000    0.000 managers.py:1846(is_consolidated)\n",
            "        2    0.000    0.000    0.000    0.000 managers.py:1860(<listcomp>)\n",
            "        6    0.000    0.000    0.000    0.000 warnings.py:458(__enter__)\n",
            "        2    0.000    0.000    0.000    0.000 frame.py:3703(_ixs)\n",
            "        2    0.000    0.000    0.000    0.000 generic.py:687(size)\n",
            "        2    0.000    0.000    0.000    0.000 utils.py:430(check_array_indexer)\n",
            "       22    0.000    0.000    0.000    0.000 generic.py:550(_get_axis_number)\n",
            "        6    0.000    0.000    0.000    0.000 {method 'view' of 'numpy.ndarray' objects}\n",
            "        8    0.000    0.000    0.000    0.000 generic.py:5973(_consolidate_inplace)\n",
            "        2    0.000    0.000    0.000    0.000 indexing.py:1592(_getitem_axis)\n",
            "        2    0.000    0.000    0.000    0.000 numerictypes.py:356(issubdtype)\n",
            "        4    0.000    0.000    0.000    0.000 numerictypes.py:282(issubclass_)\n",
            "        4    0.000    0.000    0.035    0.009 blocks.py:1912(get_values)\n",
            "        2    0.000    0.000    0.001    0.000 generic.py:6076(astype)\n",
            "       33    0.000    0.000    0.000    0.000 base.py:5090(_values)\n",
            "        2    0.000    0.000    0.000    0.000 {pandas._libs.internals.get_blkno_placements}\n",
            "        2    0.000    0.000    0.000    0.000 frame.py:10819(blk_func)\n",
            "        2    0.000    0.000    0.000    0.000 datetimelike.py:2012(_reso)\n",
            "        2    0.000    0.000    0.000    0.000 managers.py:272(<listcomp>)\n",
            "       10    0.000    0.000    0.000    0.000 <frozen importlib._bootstrap>:1053(_handle_fromlist)\n",
            "        2    0.000    0.000    0.000    0.000 indexing.py:139(iloc)\n",
            "        2    0.000    0.000    0.000    0.000 base.py:6285(_should_compare)\n",
            "        6    0.000    0.000    0.000    0.000 warnings.py:181(_add_filter)\n",
            "       34    0.000    0.000    0.000    0.000 common.py:146(classes)\n",
            "        2    0.000    0.000    0.000    0.000 datetimes.py:449(_unbox_scalar)\n",
            "        4    0.000    0.000    0.006    0.002 generic.py:11178(all)\n",
            "        6    0.000    0.000    0.000    0.000 managers.py:172(blknos)\n",
            "        2    0.000    0.000    0.000    0.000 base.py:2752(_is_all_dates)\n",
            "        2    0.000    0.000    0.054    0.027 missing.py:357(notna)\n",
            "        4    0.000    0.000    0.000    0.000 blocks.py:376(_split_op_result)\n",
            "        2    0.000    0.000    0.025    0.013 indexing.py:1087(_getbool_axis)\n",
            "        2    0.000    0.000    0.000    0.000 dtypes.py:977(is_dtype)\n",
            "        4    0.000    0.000    0.000    0.000 {method 'reshape' of 'numpy.ndarray' objects}\n",
            "        6    0.000    0.000    0.000    0.000 warnings.py:437(__init__)\n",
            "        2    0.000    0.000    0.000    0.000 base.py:5304(__getitem__)\n",
            "        2    0.000    0.000    0.000    0.000 indexing.py:2522(check_bool_indexer)\n",
            "        8    0.000    0.000    0.000    0.000 managers.py:673(consolidate)\n",
            "        4    0.000    0.000    0.000    0.000 dtype.py:125(construct_from_string)\n",
            "        7    0.000    0.000    0.000    0.000 _dtype.py:314(_name_includes_bit_suffix)\n",
            "        2    0.000    0.000    0.000    0.000 blocks.py:355(reduce)\n",
            "        2    0.000    0.000    0.000    0.000 {pandas._libs.tslibs.np_datetime.py_get_unit_from_dtype}\n",
            "        2    0.000    0.000    0.000    0.000 managers.py:1078(fast_xs)\n",
            "        6    0.000    0.000    0.000    0.000 {method 'remove' of 'list' objects}\n",
            "        4    0.000    0.000    0.000    0.000 string_.py:118(construct_from_string)\n",
            "        4    0.000    0.000    0.000    0.000 datetimes.py:194(_scalar_type)\n",
            "        2    0.000    0.000    0.000    0.000 base.py:4020(_check_indexing_method)\n",
            "        2    0.000    0.000    0.000    0.000 {pandas._libs.lib.dtypes_all_equal}\n",
            "        2    0.000    0.000    0.000    0.000 missing.py:910(clean_reindex_fill_method)\n",
            "        2    0.000    0.000    0.003    0.002 base.py:6576(_maybe_cast_listlike_indexer)\n",
            "       42    0.000    0.000    0.000    0.000 base.py:56(<genexpr>)\n",
            "        2    0.000    0.000    0.000    0.000 {method 'get' of 'dict' objects}\n",
            "        2    0.000    0.000    0.001    0.000 utils.py:191(validate_indices)\n",
            "        4    0.000    0.000    0.000    0.000 {method 'max' of 'numpy.ndarray' objects}\n",
            "        4    0.000    0.000    0.000    0.000 _ufunc_config.py:131(geterr)\n",
            "       20    0.000    0.000    0.000    0.000 {pandas._libs.algos.ensure_platform_int}\n",
            "        4    0.000    0.000    0.000    0.000 dtypes.py:913(construct_from_string)\n",
            "       16    0.000    0.000    0.000    0.000 common.py:1154(needs_i8_conversion)\n",
            "        4    0.000    0.000    0.000    0.000 common.py:96(is_bool_indexer)\n",
            "       10    0.000    0.000    0.000    0.000 blocks.py:500(dtype)\n",
            "        2    0.000    0.000    0.001    0.000 <__array_function__ internals>:177(all)\n",
            "        2    0.000    0.000    0.000    0.000 types.py:176(__get__)\n",
            "        6    0.000    0.000    0.000    0.000 managers.py:1854(_consolidate_check)\n",
            "        2    0.000    0.000    0.000    0.000 blocks.py:504(astype)\n",
            "        2    0.000    0.000    0.000    0.000 base.py:5116(_get_engine_target)\n",
            "        2    0.000    0.000    0.000    0.000 {method '_from_backing_data' of 'pandas._libs.arrays.NDArrayBacked' objects}\n",
            "       12    0.000    0.000    0.000    0.000 inference.py:188(is_array_like)\n",
            "       10    0.000    0.000    0.000    0.000 common.py:1433(is_extension_array_dtype)\n",
            "        4    0.000    0.000    0.006    0.002 generic.py:11618(all)\n",
            "        2    0.000    0.000    0.000    0.000 <__array_function__ internals>:177(prod)\n",
            "       34    0.000    0.000    0.000    0.000 common.py:148(<lambda>)\n",
            "        4    0.000    0.000    0.000    0.000 dtypes.py:1185(construct_from_string)\n",
            "        2    0.000    0.000    0.000    0.000 common.py:1403(is_1d_only_ea_obj)\n",
            "        2    0.000    0.000    0.025    0.013 indexing.py:1276(_getitem_axis)\n",
            "        2    0.000    0.000    0.000    0.000 frame.py:951(_values)\n",
            "        2    0.000    0.000    0.053    0.027 base.py:141(isna)\n",
            "        2    0.000    0.000    0.000    0.000 managers.py:271(get_dtypes)\n",
            "        2    0.000    0.000    0.000    0.000 astype.py:192(astype_array)\n",
            "    14/12    0.000    0.000    0.054    0.004 missing.py:108(isna)\n",
            "        2    0.000    0.000    0.025    0.012 generic.py:3894(_take_with_is_copy)\n",
            "        4    0.000    0.000    0.000    0.000 dtype.py:216(construct_from_string)\n",
            "        2    0.000    0.000    0.000    0.000 common.py:929(is_datetime64_ns_dtype)\n",
            "        2    0.000    0.000    0.000    0.000 missing.py:107(clean_fill_method)\n",
            "        2    0.000    0.000    0.000    0.000 {built-in method numpy.zeros}\n",
            "        2    0.000    0.000    0.000    0.000 re.py:249(compile)\n",
            "        4    0.000    0.000    0.000    0.000 warnings.py:165(simplefilter)\n",
            "        2    0.000    0.000    0.000    0.000 blocks.py:2161(new_block_2d)\n",
            "        8    0.000    0.000    0.000    0.000 common.py:319(is_datetime64_dtype)\n",
            "        2    0.000    0.000    0.000    0.000 _validators.py:141(validate_kwargs)\n",
            "        2    0.000    0.000    0.000    0.000 construction.py:540(_prep_ndarraylike)\n",
            "        2    0.000    0.000    0.000    0.000 construction.py:231(mgr_to_mgr)\n",
            "        2    0.000    0.000    0.053    0.026 missing.py:268(_isna_array)\n",
            "        4    0.000    0.000    0.000    0.000 common.py:790(is_unsigned_integer_dtype)\n",
            "        2    0.000    0.000    0.720    0.360 frame.py:11664(values)\n",
            "        6    0.000    0.000    0.000    0.000 blocks.py:2250(extend_blocks)\n",
            "       14    0.000    0.000    0.000    0.000 managers.py:2058(dtype)\n",
            "        4    0.000    0.000    0.000    0.000 dtypes.py:303(construct_from_string)\n",
            "        4    0.000    0.000    0.000    0.000 base.py:2421(is_boolean)\n",
            "        2    0.000    0.000    0.002    0.001 frame.py:3696(T)\n",
            "        6    0.000    0.000    0.000    0.000 blocks.py:213(mgr_locs)\n",
            "        4    0.000    0.000    0.000    0.000 {built-in method numpy.seterrobj}\n",
            "        2    0.000    0.000    0.000    0.000 managers.py:2407(_preprocess_slice_or_indexer)\n",
            "        2    0.000    0.000    0.000    0.000 {built-in method builtins.max}\n",
            "        9    0.000    0.000    0.000    0.000 {pandas._libs.lib.is_bool}\n",
            "        8    0.000    0.000    0.000    0.000 base.py:870(_reset_identity)\n",
            "        8    0.000    0.000    0.000    0.000 common.py:501(is_categorical_dtype)\n",
            "        2    0.000    0.000    0.000    0.000 frame.py:934(_can_fast_transpose)\n",
            "        2    0.000    0.000    0.000    0.000 {built-in method _abc._abc_instancecheck}\n",
            "        8    0.000    0.000    0.000    0.000 datetimes.py:520(tz)\n",
            "        2    0.000    0.000    0.000    0.000 indexing.py:662(__call__)\n",
            "       14    0.000    0.000    0.000    0.000 common.py:151(classes_and_not_datetimelike)\n",
            "        6    0.000    0.000    0.000    0.000 warnings.py:477(__exit__)\n",
            "        2    0.000    0.000    0.000    0.000 base.py:6205(_maybe_promote)\n",
            "        2    0.000    0.000    0.001    0.000 fromnumeric.py:2404(all)\n",
            "        2    0.000    0.000    0.000    0.000 frame.py:11036(_get_agg_axis)\n",
            "        2    0.000    0.000    0.000    0.000 base.py:6303(_is_comparable_dtype)\n",
            "        2    0.000    0.000    0.000    0.000 numerictypes.py:597(find_common_type)\n",
            "        1    0.000    0.000    0.000    0.000 cast.py:714(_ensure_dtype_type)\n",
            "       12    0.000    0.000    0.000    0.000 managers.py:997(__init__)\n",
            "        4    0.000    0.000    0.000    0.000 fromnumeric.py:70(<dictcomp>)\n",
            "        2    0.000    0.000    0.000    0.000 base.py:210(interleaved_dtype)\n",
            "        2    0.000    0.000    0.000    0.000 {pandas._libs.lib.is_all_arraylike}\n",
            "        2    0.000    0.000    0.000    0.000 common.py:427(is_period_dtype)\n",
            "        2    0.000    0.000    0.000    0.000 datetimelike.py:295(asi8)\n",
            "        2    0.000    0.000    0.000    0.000 managers.py:2156(create_block_manager_from_blocks)\n",
            "        6    0.000    0.000    0.000    0.000 base.py:986(dtype)\n",
            "        8    0.000    0.000    0.000    0.000 {pandas._libs.lib.is_iterator}\n",
            "       14    0.000    0.000    0.000    0.000 series.py:596(dtype)\n",
            "        4    0.000    0.000    0.000    0.000 {method 'all' of 'numpy.ndarray' objects}\n",
            "        2    0.000    0.000    0.000    0.000 _ufunc_config.py:434(__exit__)\n",
            "        6    0.000    0.000    0.000    0.000 cast.py:508(ensure_dtype_can_hold_na)\n",
            "        2    0.000    0.000    0.000    0.000 range.py:353(dtype)\n",
            "        2    0.000    0.000    0.000    0.000 datetimes.py:458(_check_compatible_with)\n",
            "        3    0.000    0.000    0.000    0.000 base.py:2745(inferred_type)\n",
            "        2    0.000    0.000    0.000    0.000 common.py:192(all_none)\n",
            "        2    0.000    0.000    0.000    0.000 numerictypes.py:649(<listcomp>)\n",
            "        2    0.000    0.000    0.000    0.000 generic.py:445(_validate_dtype)\n",
            "        2    0.000    0.000    0.000    0.000 _validators.py:128(_check_for_invalid_keys)\n",
            "        4    0.000    0.000    0.000    0.000 base.py:839(is_)\n",
            "        6    0.000    0.000    0.000    0.000 managers.py:275(arrays)\n",
            "        4    0.000    0.000    0.000    0.000 common.py:684(is_integer_dtype)\n",
            "        4    0.000    0.000    0.000    0.000 generic.py:570(_get_block_manager_axis)\n",
            "        2    0.000    0.000    0.000    0.000 frame.py:874(shape)\n",
            "       12    0.000    0.000    0.000    0.000 frame.py:600(_constructor)\n",
            "        6    0.000    0.000    0.000    0.000 multiarray.py:1071(copyto)\n",
            "        4    0.000    0.000    0.000    0.000 base.py:2783(_is_multi)\n",
            "       14    0.000    0.000    0.000    0.000 common.py:156(<lambda>)\n",
            "        4    0.000    0.000    0.000    0.000 nanops.py:350(_na_ok_dtype)\n",
            "        7    0.000    0.000    0.000    0.000 _dtype.py:24(_kind_name)\n",
            "        4    0.000    0.000    0.000    0.000 {method 'match' of 're.Pattern' objects}\n",
            "        4    0.000    0.000    0.000    0.000 nanops.py:217(_maybe_get_mask)\n",
            "        4    0.000    0.000    0.000    0.000 generic.py:4114(_set_is_copy)\n",
            "        2    0.000    0.000    0.000    0.000 common.py:1204(is_numeric_dtype)\n",
            "        2    0.000    0.000    0.000    0.000 construction.py:405(_check_values_indices_shape_match)\n",
            "        4    0.000    0.000    0.000    0.000 _methods.py:60(_all)\n",
            "        4    0.000    0.000    0.000    0.000 {built-in method numpy.asanyarray}\n",
            "        4    0.000    0.000    0.000    0.000 base.py:1194(_maybe_disallow_fill)\n",
            "        2    0.000    0.000    0.000    0.000 construction.py:739(_get_axes)\n",
            "        8    0.000    0.000    0.000    0.000 {built-in method __new__ of type object at 0x95cbc0}\n",
            "        2    0.000    0.000    0.000    0.000 series.py:846(__array__)\n",
            "        4    0.000    0.000    0.000    0.000 {built-in method builtins.any}\n",
            "        2    0.000    0.000    0.000    0.000 {method 'min' of 'numpy.ndarray' objects}\n",
            "        6    0.000    0.000    0.000    0.000 {method 'insert' of 'list' objects}\n",
            "        4    0.000    0.000    0.000    0.000 cast.py:1628(<genexpr>)\n",
            "        2    0.000    0.000    0.000    0.000 range.py:541(equals)\n",
            "        2    0.000    0.000    0.000    0.000 fromnumeric.py:2965(_prod_dispatcher)\n",
            "        2    0.000    0.000    0.000    0.000 managers.py:447(astype)\n",
            "        4    0.000    0.000    0.000    0.000 _methods.py:38(_amax)\n",
            "        2    0.000    0.000    0.000    0.000 blocks.py:827(iget)\n",
            "        4    0.000    0.000    0.000    0.000 common.py:736(is_signed_integer_dtype)\n",
            "        2    0.000    0.000    0.000    0.000 {method 'copy' of 'dict' objects}\n",
            "        2    0.000    0.000    0.000    0.000 abc.py:117(__instancecheck__)\n",
            "        2    0.000    0.000    0.000    0.000 inference.py:266(is_dict_like)\n",
            "        2    0.000    0.000    0.000    0.000 managers.py:1917(from_blocks)\n",
            "        2    0.000    0.000    0.000    0.000 common.py:651(resolve_numeric_only)\n",
            "        1    0.000    0.000    0.000    0.000 base.py:2801(_na_value)\n",
            "        2    0.000    0.000    0.000    0.000 indexing.py:1539(_validate_integer)\n",
            "        2    0.000    0.000    0.000    0.000 _methods.py:42(_amin)\n",
            "        8    0.000    0.000    0.000    0.000 cast.py:1635(<genexpr>)\n",
            "        2    0.000    0.000    0.000    0.000 {method 'transpose' of 'numpy.ndarray' objects}\n",
            "       18    0.000    0.000    0.000    0.000 {built-in method _warnings._filters_mutated}\n",
            "       12    0.000    0.000    0.000    0.000 {method 'startswith' of 'str' objects}\n",
            "        2    0.000    0.000    0.000    0.000 _validators.py:49(_check_for_default_values)\n",
            "        2    0.000    0.000    0.000    0.000 common.py:537(is_string_or_object_np_dtype)\n",
            "        2    0.000    0.000    0.000    0.000 common.py:352(is_datetime64tz_dtype)\n",
            "        1    0.000    0.000    0.000    0.000 <__array_function__ internals>:177(can_cast)\n",
            "        4    0.000    0.000    0.000    0.000 {method 'search' of 're.Pattern' objects}\n",
            "        8    0.000    0.000    0.000    0.000 {built-in method numpy.geterrobj}\n",
            "        2    0.000    0.000    0.000    0.000 {method 'format' of 'str' objects}\n",
            "        8    0.000    0.000    0.000    0.000 cast.py:1619(<genexpr>)\n",
            "       16    0.000    0.000    0.000    0.000 base.py:324(ndim)\n",
            "        4    0.000    0.000    0.000    0.000 {method 'endswith' of 'str' objects}\n",
            "        2    0.000    0.000    0.000    0.000 indexing.py:278(loc)\n",
            "        4    0.000    0.000    0.000    0.000 base.py:163(array)\n",
            "        6    0.000    0.000    0.000    0.000 managers.py:287(<listcomp>)\n",
            "        4    0.000    0.000    0.000    0.000 managers.py:238(items)\n",
            "        2    0.000    0.000    0.000    0.000 base.py:46(__len__)\n",
            "        4    0.000    0.000    0.000    0.000 managers.py:188(blklocs)\n",
            "        2    0.000    0.000    0.000    0.000 {built-in method fromkeys}\n",
            "        4    0.000    0.000    0.000    0.000 managers.py:233(is_single_block)\n",
            "        2    0.000    0.000    0.000    0.000 frame.py:1498(__len__)\n",
            "        4    0.000    0.000    0.000    0.000 base.py:574(_ensure_array)\n",
            "        6    0.000    0.000    0.000    0.000 inference.py:292(<genexpr>)\n",
            "        2    0.000    0.000    0.000    0.000 generic.py:640(_info_axis)\n",
            "        4    0.000    0.000    0.000    0.000 cast.py:1630(<genexpr>)\n",
            "        2    0.000    0.000    0.000    0.000 managers.py:1796(<listcomp>)\n",
            "        2    0.000    0.000    0.000    0.000 common.py:151(cast_scalar_indexer)\n",
            "        4    0.000    0.000    0.000    0.000 base.py:1734(name)\n",
            "        2    0.000    0.000    0.000    0.000 base.py:7456(unpack_nested_dtype)\n",
            "        4    0.000    0.000    0.000    0.000 base.py:555(<genexpr>)\n",
            "        6    0.000    0.000    0.000    0.000 managers.py:330(<dictcomp>)\n",
            "        2    0.000    0.000    0.000    0.000 inspect.py:191(isclass)\n",
            "        2    0.000    0.000    0.000    0.000 datetimelike.py:926(freq)\n",
            "        4    0.000    0.000    0.000    0.000 base.py:241(disallow_kwargs)\n",
            "        4    0.000    0.000    0.000    0.000 {method 'lower' of 'str' objects}\n",
            "        1    0.000    0.000    0.000    0.000 cast.py:566(_maybe_promote_cached)\n",
            "        4    0.000    0.000    0.000    0.000 nanops.py:195(_get_fill_value)\n",
            "        2    0.000    0.000    0.000    0.000 series.py:764(__len__)\n",
            "        4    0.000    0.000    0.000    0.000 {method 'items' of 'dict' objects}\n",
            "        4    0.000    0.000    0.000    0.000 common.py:196(<genexpr>)\n",
            "        2    0.000    0.000    0.000    0.000 utils.py:66(is_list_like_indexer)\n",
            "        2    0.000    0.000    0.000    0.000 managers.py:1864(_consolidate_inplace)\n",
            "        4    0.000    0.000    0.000    0.000 {pandas._libs.lib.item_from_zerodim}\n",
            "        4    0.000    0.000    0.000    0.000 generic.py:664(ndim)\n",
            "        2    0.000    0.000    0.000    0.000 common.py:393(is_timedelta64_dtype)\n",
            "        2    0.000    0.000    0.000    0.000 series.py:546(_constructor)\n",
            "        1    0.000    0.000    0.000    0.000 {method 'disable' of '_lsprof.Profiler' objects}\n",
            "        2    0.000    0.000    0.000    0.000 fromnumeric.py:2399(_all_dispatcher)\n",
            "        3    0.000    0.000    0.000    0.000 {pandas._libs.lib.is_float}\n",
            "        1    0.000    0.000    0.000    0.000 base.py:728(_constructor)\n",
            "        2    0.000    0.000    0.000    0.000 {method 'keys' of 'dict' objects}\n",
            "        2    0.000    0.000    0.000    0.000 {method 'extend' of 'list' objects}\n",
            "        2    0.000    0.000    0.000    0.000 numerictypes.py:650(<listcomp>)\n",
            "        1    0.000    0.000    0.000    0.000 multiarray.py:498(can_cast)\n",
            "\n",
            "\n"
          ]
        }
      ]
    },
    {
      "cell_type": "code",
      "source": [
        "from collections import defaultdict\n",
        "\n",
        "def get_word_reviews_count_optimized(df):\n",
        "    word_reviews_count = defaultdict(int)\n",
        "    \n",
        "    for _, row in df.dropna(subset=['review']).iterrows():\n",
        "        review = row['review']\n",
        "        words = review.split(' ')\n",
        "        \n",
        "        unique_words = set(words)  # Уникальные слова в отзыве\n",
        "        \n",
        "        for word in unique_words:\n",
        "            word_reviews_count[word] += 1\n",
        "    \n",
        "    return word_reviews_count\n"
      ],
      "metadata": {
        "id": "xfi82qC6c_mj"
      },
      "execution_count": 16,
      "outputs": []
    },
    {
      "cell_type": "code",
      "source": [
        "import line_profiler\n",
        "\n",
        "# Создание экземпляра профайлера\n",
        "profiler = line_profiler.LineProfiler(get_word_reviews_count_optimized, get_word_reviews_count)\n",
        "\n",
        "# Запуск профайлера\n",
        "profiler.enable()\n",
        "\n",
        "# Выполнение функций\n",
        "word_reviews_count_optimized = get_word_reviews_count_optimized(reviews)\n",
        "word_reviews_count = get_word_reviews_count(reviews)\n",
        "\n",
        "# Отключение профайлера и вывод результатов\n",
        "profiler.disable()\n",
        "profiler.print_stats()\n"
      ],
      "metadata": {
        "colab": {
          "base_uri": "https://localhost:8080/"
        },
        "id": "DfM-HRDleaQ1",
        "outputId": "a080486b-21f8-4ba4-837c-98219589d0df"
      },
      "execution_count": 23,
      "outputs": [
        {
          "output_type": "stream",
          "name": "stdout",
          "text": [
            "Timer unit: 1e-09 s\n",
            "\n",
            "Total time: 49.9161 s\n",
            "File: <ipython-input-14-b1bc049bcd0c>\n",
            "Function: get_word_reviews_count at line 1\n",
            "\n",
            "Line #      Hits         Time  Per Hit   % Time  Line Contents\n",
            "==============================================================\n",
            "     1                                           def get_word_reviews_count(df):\n",
            "     2         1       2134.0   2134.0      0.0      word_reviews = {}\n",
            "     3    126679 11517114845.0  90915.7     23.1      for _, row in df.dropna(subset=['review']).iterrows():\n",
            "     4    126679 2649829252.0  20917.7      5.3          recipe_id, review = row['recipe_id'], row['review']\n",
            "     5    126679  626643221.0   4946.7      1.3          words = review.split(' ')\n",
            "     6   6792010 1626330327.0    239.4      3.3          for word in words:\n",
            "     7   6617066 3244072996.0    490.3      6.5              if word not in word_reviews:\n",
            "     8    174944   96768705.0    553.1      0.2                  word_reviews[word] = []\n",
            "     9   6792010 4114151667.0    605.7      8.2              word_reviews[word].append(recipe_id)\n",
            "    10                                               \n",
            "    11         1        710.0    710.0      0.0      word_reviews_count = {}\n",
            "    12    126679 13875997765.0 109536.7     27.8      for _, row in df.dropna(subset=['review']).iterrows():\n",
            "    13    126679 2159838925.0  17049.7      4.3          review = row['review']\n",
            "    14    126679  714033511.0   5636.6      1.4          words = review.split(' ')\n",
            "    15   6792010 1949997919.0    287.1      3.9          for word in words:\n",
            "    16   6792010 7341360777.0   1080.9     14.7              word_reviews_count[word] = len(word_reviews[word])\n",
            "    17         1        437.0    437.0      0.0      return word_reviews_count\n",
            "\n",
            "Total time: 19.1395 s\n",
            "File: <ipython-input-16-849ad95c555f>\n",
            "Function: get_word_reviews_count_optimized at line 3\n",
            "\n",
            "Line #      Hits         Time  Per Hit   % Time  Line Contents\n",
            "==============================================================\n",
            "     3                                           def get_word_reviews_count_optimized(df):\n",
            "     4         1       2937.0   2937.0      0.0      word_reviews_count = defaultdict(int)\n",
            "     5                                               \n",
            "     6    126679 11003238092.0  86859.2     57.5      for _, row in df.dropna(subset=['review']).iterrows():\n",
            "     7    126679 1632959719.0  12890.5      8.5          review = row['review']\n",
            "     8    126679  545707119.0   4307.8      2.9          words = review.split(' ')\n",
            "     9                                                   \n",
            "    10    126679  812064185.0   6410.4      4.2          unique_words = set(words)  # Уникальные слова в отзыве\n",
            "    11                                                   \n",
            "    12   5387307 1468824174.0    272.6      7.7          for word in unique_words:\n",
            "    13   5387307 3676679268.0    682.5     19.2              word_reviews_count[word] += 1\n",
            "    14                                               \n",
            "    15         1        508.0    508.0      0.0      return word_reviews_count\n",
            "\n"
          ]
        }
      ]
    },
    {
      "cell_type": "markdown",
      "metadata": {
        "id": "hRgRYJBZZfLR"
      },
      "source": [
        "4. Напишите несколько версий функции `MAPE` (см. [MAPE](https://en.wikipedia.org/wiki/Mean_absolute_percentage_error)) для расчета среднего абсолютного процентного отклонения значения рейтинга отзыва на рецепт от среднего значения рейтинга по всем отзывам для этого рецепта. \n",
        "    1. Без использования векторизованных операций и методов массивов `numpy` и без использования `numba`\n",
        "    2. Без использования векторизованных операций и методов массивов `numpy`, но с использованием `numba`\n",
        "    3. С использованием векторизованных операций и методов массивов `numpy`, но без использования `numba`\n",
        "    4. C использованием векторизованных операций и методов массивов `numpy` и `numba`\n",
        "    \n",
        "Измерьте время выполнения каждой из реализаций.\n",
        "\n",
        "Замечание: удалите из выборки отзывы с нулевым рейтингом.\n"
      ]
    },
    {
      "cell_type": "code",
      "execution_count": 32,
      "metadata": {
        "colab": {
          "base_uri": "https://localhost:8080/"
        },
        "id": "kTYbB-03ZfLR",
        "outputId": "2a4b53a8-434a-467f-a921-0f21910b2875"
      },
      "outputs": [
        {
          "output_type": "stream",
          "name": "stdout",
          "text": [
            "CPU times: user 7 µs, sys: 0 ns, total: 7 µs\n",
            "Wall time: 9.54 µs\n"
          ]
        }
      ],
      "source": [
        "%%time\n",
        "def calculate_mape_v1(df):\n",
        "    total_mape = 0\n",
        "    count = 0\n",
        "    \n",
        "    for _, row in df.iterrows():\n",
        "        rating = row['rating']\n",
        "        if rating != 0:\n",
        "            average_rating = df[df['recipe_id'] == row['recipe_id']]['rating'].mean()\n",
        "            mape = abs(rating - average_rating) / average_rating\n",
        "            total_mape += mape\n",
        "            count += 1\n",
        "    \n",
        "    if count > 0:\n",
        "        return total_mape / count\n",
        "    else:\n",
        "        return None\n"
      ]
    },
    {
      "cell_type": "code",
      "execution_count": 35,
      "metadata": {
        "colab": {
          "base_uri": "https://localhost:8080/"
        },
        "id": "TaAlbokhZfLR",
        "outputId": "78acba2a-6109-43ae-e47c-3defb30fc9f2"
      },
      "outputs": [
        {
          "output_type": "stream",
          "name": "stdout",
          "text": [
            "CPU times: user 353 µs, sys: 0 ns, total: 353 µs\n",
            "Wall time: 361 µs\n"
          ]
        }
      ],
      "source": [
        "%%time\n",
        "from numba import njit\n",
        "\n",
        "@njit\n",
        "def calculate_mape_v2(df):\n",
        "    total_mape = 0\n",
        "    count = 0\n",
        "    \n",
        "    for _, row in df.iterrows():\n",
        "        rating = row['rating']\n",
        "        if rating != 0:\n",
        "            average_rating = df[df['recipe_id'] == row['recipe_id']]['rating'].mean()\n",
        "            mape = abs(rating - average_rating) / average_rating\n",
        "            total_mape += mape\n",
        "            count += 1\n",
        "    \n",
        "    if count > 0:\n",
        "        return total_mape / count\n",
        "    else:\n",
        "        return None\n"
      ]
    },
    {
      "cell_type": "code",
      "source": [
        "%%time\n",
        "import numpy as np\n",
        "\n",
        "def calculate_mape_v3(df):\n",
        "    ratings = df['rating'].values\n",
        "    recipe_ids = df['recipe_id'].values\n",
        "    \n",
        "    mask = (ratings != 0)\n",
        "    non_zero_ratings = ratings[mask]\n",
        "    non_zero_recipe_ids = recipe_ids[mask]\n",
        "    \n",
        "    average_ratings = np.zeros_like(non_zero_ratings)\n",
        "    unique_recipe_ids = np.unique(non_zero_recipe_ids)\n",
        "    \n",
        "    for recipe_id in unique_recipe_ids:\n",
        "        mask = (non_zero_recipe_ids == recipe_id)\n",
        "        average_ratings[mask] = np.mean(non_zero_ratings[mask])\n",
        "    \n",
        "    mape = np.abs(non_zero_ratings - average_ratings) / average_ratings\n",
        "    \n",
        "    return np.mean(mape)\n"
      ],
      "metadata": {
        "colab": {
          "base_uri": "https://localhost:8080/"
        },
        "id": "ClY1TUGNe_Uv",
        "outputId": "6a878213-b788-4809-a8d5-e111983ea74b"
      },
      "execution_count": 34,
      "outputs": [
        {
          "output_type": "stream",
          "name": "stdout",
          "text": [
            "CPU times: user 10 µs, sys: 0 ns, total: 10 µs\n",
            "Wall time: 13.1 µs\n"
          ]
        }
      ]
    },
    {
      "cell_type": "code",
      "source": [
        "%%time\n",
        "from numba import njit\n",
        "\n",
        "@njit\n",
        "def calculate_mape_v4(df):\n",
        "    ratings = df['rating'].values\n",
        "    recipe_ids = df['recipe_id'].values\n",
        "    \n",
        "    mask = (ratings != 0)\n",
        "    non_zero_ratings = ratings[mask]\n",
        "    non_zero_recipe_ids = recipe_ids[mask]\n",
        "    \n",
        "    average_ratings = np.zeros_like(non_zero_ratings)\n",
        "    unique_recipe_ids = np.unique(non_zero_recipe_ids)\n",
        "    \n",
        "    for recipe_id in unique_recipe_ids:\n",
        "        mask = (non_zero_recipe_ids == recipe_id)\n",
        "        average_ratings[mask] = np.mean(non_zero_ratings[mask])\n",
        "    \n",
        "    mape = np.abs(non_zero_ratings - average_ratings) / average_ratings\n",
        "    \n",
        "    return np.mean(mape)\n"
      ],
      "metadata": {
        "colab": {
          "base_uri": "https://localhost:8080/"
        },
        "id": "dAvC8eoffA7b",
        "outputId": "98fc235e-4a61-499e-f5f5-d45ab9684c9d"
      },
      "execution_count": 36,
      "outputs": [
        {
          "output_type": "stream",
          "name": "stdout",
          "text": [
            "CPU times: user 336 µs, sys: 0 ns, total: 336 µs\n",
            "Wall time: 343 µs\n"
          ]
        }
      ]
    }
  ],
  "metadata": {
    "kernelspec": {
      "display_name": "Python 3",
      "language": "python",
      "name": "python3"
    },
    "language_info": {
      "codemirror_mode": {
        "name": "ipython",
        "version": 3
      },
      "file_extension": ".py",
      "mimetype": "text/x-python",
      "name": "python",
      "nbconvert_exporter": "python",
      "pygments_lexer": "ipython3",
      "version": "3.7.4"
    },
    "colab": {
      "provenance": []
    }
  },
  "nbformat": 4,
  "nbformat_minor": 0
}